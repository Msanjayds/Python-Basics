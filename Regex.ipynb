{
 "cells": [
  {
   "cell_type": "markdown",
   "metadata": {},
   "source": [
    "# Regular expressions options\n",
    "   1. . -  Any character Except New line\n",
    "   2. \\d - Digit (0-9)\n",
    "   3. \\D - Not a Digit (0-9)\n",
    "   4. \\w  Word character (a-z, A-Z, 0-9, _)\n",
    "   5. \\W  Nota word character\n",
    "   6. \\s  Whihtespace (space, tabe, newline)\n",
    "   7. \\S  Not Whitespace (Space tab newline)\n",
    "   8. \\b  Word Boundary\n",
    "   9. \\B  Not a word bounday\n",
    "   10. ^  Begining of a string\n",
    "   11. Below ar are the anchors.\n",
    "   11. $  End of a string\n",
    "   12. [] Matches characcters in brackets\n",
    "   13. [^ ] Matches chars not in brackets\n",
    " # Quantifiers:\n",
    "  1. * - 0 or more\n",
    "  2. + - 1 or more\n",
    "  3. ? - 0 or one\n",
    "  4. {3} - Exact number\n",
    "  5. {3,4} - Range of numbers(min,max)"
   ]
  },
  {
   "cell_type": "code",
   "execution_count": 18,
   "metadata": {},
   "outputs": [],
   "source": [
    "import re\n",
    "\n",
    "text_to_serach = '''\n",
    "abcdefhijklmnopqurstuvwxyz\n",
    "ABCDEFGHIJKLMNOPQRSTUVWXYZ\n",
    "1234567890\n",
    "\n",
    "Ha HaHa\n",
    "\n",
    "Metacharacters (Need to be escaped)\n",
    "\n",
    ". ^ $ * + ? {} [] \\ | ()\n",
    "\n",
    "sanjay.m\n",
    "\n",
    "123-456-789\n",
    "123.456\n",
    "mr. sanjay\n",
    "'''\n",
    "# dir(re)"
   ]
  },
  {
   "cell_type": "code",
   "execution_count": 23,
   "metadata": {},
   "outputs": [
    {
     "name": "stdout",
     "output_type": "stream",
     "text": [
      "<_sre.SRE_Match object; span=(1, 4), match='abc'>\n",
      "abc\n"
     ]
    }
   ],
   "source": [
    "pattern = re.compile(r'abc')\n",
    "\n",
    "matches = pattern.finditer(text_to_serach)\n",
    "\n",
    "for match in matches:\n",
    "    print(match)\n",
    "    \n",
    "print(text_to_serach[1:4])\n",
    "    "
   ]
  },
  {
   "cell_type": "code",
   "execution_count": 26,
   "metadata": {},
   "outputs": [
    {
     "name": "stdout",
     "output_type": "stream",
     "text": [
      "<_sre.SRE_Match object; span=(139, 147), match='sanjay.m'>\n"
     ]
    }
   ],
   "source": [
    "pattern = re.compile(r'sanjay\\.m')\n",
    "\n",
    "matches = pattern.finditer(text_to_serach)\n",
    "\n",
    "for match in matches:\n",
    "    print(match)"
   ]
  },
  {
   "cell_type": "code",
   "execution_count": 28,
   "metadata": {
    "collapsed": true
   },
   "outputs": [
    {
     "name": "stdout",
     "output_type": "stream",
     "text": [
      "<_sre.SRE_Match object; span=(0, 1), match='\\n'>\n",
      "<_sre.SRE_Match object; span=(27, 28), match='\\n'>\n",
      "<_sre.SRE_Match object; span=(54, 55), match='\\n'>\n",
      "<_sre.SRE_Match object; span=(65, 66), match='\\n'>\n",
      "<_sre.SRE_Match object; span=(66, 67), match='\\n'>\n",
      "<_sre.SRE_Match object; span=(69, 70), match=' '>\n",
      "<_sre.SRE_Match object; span=(74, 75), match='\\n'>\n",
      "<_sre.SRE_Match object; span=(75, 76), match='\\n'>\n",
      "<_sre.SRE_Match object; span=(90, 91), match=' '>\n",
      "<_sre.SRE_Match object; span=(96, 97), match=' '>\n",
      "<_sre.SRE_Match object; span=(99, 100), match=' '>\n",
      "<_sre.SRE_Match object; span=(102, 103), match=' '>\n",
      "<_sre.SRE_Match object; span=(111, 112), match='\\n'>\n",
      "<_sre.SRE_Match object; span=(112, 113), match='\\n'>\n",
      "<_sre.SRE_Match object; span=(114, 115), match=' '>\n",
      "<_sre.SRE_Match object; span=(116, 117), match=' '>\n",
      "<_sre.SRE_Match object; span=(118, 119), match=' '>\n",
      "<_sre.SRE_Match object; span=(120, 121), match=' '>\n",
      "<_sre.SRE_Match object; span=(122, 123), match=' '>\n",
      "<_sre.SRE_Match object; span=(124, 125), match=' '>\n",
      "<_sre.SRE_Match object; span=(127, 128), match=' '>\n",
      "<_sre.SRE_Match object; span=(130, 131), match=' '>\n",
      "<_sre.SRE_Match object; span=(132, 133), match=' '>\n",
      "<_sre.SRE_Match object; span=(134, 135), match=' '>\n",
      "<_sre.SRE_Match object; span=(137, 138), match='\\n'>\n",
      "<_sre.SRE_Match object; span=(138, 139), match='\\n'>\n",
      "<_sre.SRE_Match object; span=(147, 148), match='\\n'>\n",
      "<_sre.SRE_Match object; span=(148, 149), match='\\n'>\n",
      "<_sre.SRE_Match object; span=(160, 161), match='\\n'>\n",
      "<_sre.SRE_Match object; span=(168, 169), match='\\n'>\n",
      "<_sre.SRE_Match object; span=(172, 173), match=' '>\n",
      "<_sre.SRE_Match object; span=(179, 180), match='\\n'>\n"
     ]
    }
   ],
   "source": [
    "pattern = re.compile(r'\\s')\n",
    "\n",
    "matches = pattern.finditer(text_to_serach)\n",
    "\n",
    "for match in matches:\n",
    "    print(match)"
   ]
  },
  {
   "cell_type": "code",
   "execution_count": 30,
   "metadata": {},
   "outputs": [
    {
     "name": "stdout",
     "output_type": "stream",
     "text": [
      "<_sre.SRE_Match object; span=(67, 69), match='Ha'>\n",
      "<_sre.SRE_Match object; span=(70, 72), match='Ha'>\n"
     ]
    }
   ],
   "source": [
    "pattern = re.compile(r'\\bHa')\n",
    "\n",
    "matches = pattern.finditer(text_to_serach)\n",
    "\n",
    "for match in matches:\n",
    "    print(match)"
   ]
  },
  {
   "cell_type": "code",
   "execution_count": 32,
   "metadata": {},
   "outputs": [
    {
     "name": "stdout",
     "output_type": "stream",
     "text": [
      "<_sre.SRE_Match object; span=(72, 74), match='Ha'>\n"
     ]
    }
   ],
   "source": [
    "pattern = re.compile(r'\\BHa')\n",
    "\n",
    "matches = pattern.finditer(text_to_serach)\n",
    "\n",
    "for match in matches:\n",
    "    print(match)"
   ]
  },
  {
   "cell_type": "code",
   "execution_count": 33,
   "metadata": {},
   "outputs": [
    {
     "name": "stdout",
     "output_type": "stream",
     "text": [
      "<_sre.SRE_Match object; span=(0, 5), match='start'>\n"
     ]
    }
   ],
   "source": [
    "sentence = 'start a sentence and make it end'\n",
    "\n",
    "pattern = re.compile(r'^start')\n",
    "\n",
    "matches = pattern.finditer(sentence)\n",
    "\n",
    "for match in matches:\n",
    "    print(match)"
   ]
  },
  {
   "cell_type": "code",
   "execution_count": 34,
   "metadata": {},
   "outputs": [
    {
     "name": "stdout",
     "output_type": "stream",
     "text": [
      "<_sre.SRE_Match object; span=(29, 32), match='end'>\n"
     ]
    }
   ],
   "source": [
    "pattern = re.compile(r'end$')\n",
    "\n",
    "matches = pattern.finditer(sentence)\n",
    "\n",
    "for match in matches:\n",
    "    print(match)"
   ]
  },
  {
   "cell_type": "code",
   "execution_count": 36,
   "metadata": {},
   "outputs": [
    {
     "name": "stdout",
     "output_type": "stream",
     "text": [
      "<_sre.SRE_Match object; span=(1, 4), match='123'>\n",
      "<_sre.SRE_Match object; span=(4, 7), match='456'>\n",
      "<_sre.SRE_Match object; span=(7, 10), match='789'>\n",
      "<_sre.SRE_Match object; span=(12, 15), match='123'>\n",
      "<_sre.SRE_Match object; span=(16, 19), match='456'>\n",
      "<_sre.SRE_Match object; span=(20, 23), match='789'>\n",
      "<_sre.SRE_Match object; span=(24, 27), match='123'>\n",
      "<_sre.SRE_Match object; span=(28, 31), match='456'>\n"
     ]
    }
   ],
   "source": [
    "text_to_serach = '''\n",
    "1234567890\n",
    "123-456-789\n",
    "123.456\n",
    "'''\n",
    "pattern = re.compile(r'\\d\\d\\d')\n",
    "\n",
    "matches = pattern.finditer(text_to_serach)\n",
    "\n",
    "for match in matches:\n",
    "    print(match)\n"
   ]
  },
  {
   "cell_type": "code",
   "execution_count": 38,
   "metadata": {},
   "outputs": [
    {
     "name": "stdout",
     "output_type": "stream",
     "text": [
      "<_sre.SRE_Match object; span=(1, 8), match='1234567'>\n",
      "<_sre.SRE_Match object; span=(12, 19), match='123-456'>\n",
      "<_sre.SRE_Match object; span=(24, 31), match='123.456'>\n"
     ]
    }
   ],
   "source": [
    "text_to_serach = '''\n",
    "1234567890\n",
    "123-456-789\n",
    "123.456\n",
    "'''\n",
    "pattern = re.compile(r'\\d\\d\\d.\\d\\d\\d')\n",
    "\n",
    "matches = pattern.finditer(text_to_serach)\n",
    "\n",
    "for match in matches:\n",
    "    print(match)"
   ]
  },
  {
   "cell_type": "code",
   "execution_count": 43,
   "metadata": {},
   "outputs": [
    {
     "name": "stdout",
     "output_type": "stream",
     "text": [
      "<_sre.SRE_Match object; span=(7, 14), match='123-345'>\n",
      "<_sre.SRE_Match object; span=(26, 33), match='985-334'>\n"
     ]
    }
   ],
   "source": [
    "# period matches any character\n",
    "pattern = re.compile(r'\\d\\d\\d.\\d\\d\\d')\n",
    "\n",
    "with open('data.txt','r') as f:\n",
    "    contents=f.read()\n",
    "    \n",
    "    matches = pattern.finditer(contents)\n",
    "    \n",
    "    for match in matches:\n",
    "        print(match)\n"
   ]
  },
  {
   "cell_type": "code",
   "execution_count": 41,
   "metadata": {},
   "outputs": [
    {
     "name": "stdout",
     "output_type": "stream",
     "text": [
      "E:\\TECH\\Python\\Work\n"
     ]
    }
   ],
   "source": [
    "import os\n",
    "print(os.getcwd())"
   ]
  },
  {
   "cell_type": "code",
   "execution_count": 45,
   "metadata": {},
   "outputs": [
    {
     "name": "stdout",
     "output_type": "stream",
     "text": [
      "<_sre.SRE_Match object; span=(7, 14), match='123-345'>\n"
     ]
    }
   ],
   "source": [
    "# period matches any character\n",
    "pattern = re.compile(r'\\d\\d\\d[-]\\d\\d\\d')\n",
    "\n",
    "with open('data.txt','r') as f:\n",
    "    contents=f.read()\n",
    "    \n",
    "    matches = pattern.finditer(contents)\n",
    "    \n",
    "    for match in matches:\n",
    "        print(match)"
   ]
  },
  {
   "cell_type": "code",
   "execution_count": 47,
   "metadata": {},
   "outputs": [
    {
     "name": "stdout",
     "output_type": "stream",
     "text": [
      "<_sre.SRE_Match object; span=(7, 14), match='800-345'>\n"
     ]
    }
   ],
   "source": [
    "# period match 800 or 900\n",
    "pattern = re.compile(r'[89]00[-]\\d\\d\\d')\n",
    "\n",
    "with open('data.txt','r') as f:\n",
    "    contents=f.read()\n",
    "    \n",
    "    matches = pattern.finditer(contents)\n",
    "    \n",
    "    for match in matches:\n",
    "        print(match)\n",
    "        "
   ]
  },
  {
   "cell_type": "code",
   "execution_count": 52,
   "metadata": {},
   "outputs": [
    {
     "name": "stdout",
     "output_type": "stream",
     "text": [
      "<_sre.SRE_Match object; span=(0, 1), match='1'>\n",
      "<_sre.SRE_Match object; span=(1, 2), match='2'>\n",
      "<_sre.SRE_Match object; span=(2, 3), match='3'>\n",
      "<_sre.SRE_Match object; span=(3, 4), match='4'>\n",
      "<_sre.SRE_Match object; span=(4, 5), match='5'>\n",
      "<_sre.SRE_Match object; span=(8, 9), match='5'>\n",
      "<_sre.SRE_Match object; span=(9, 10), match='1'>\n"
     ]
    }
   ],
   "source": [
    "# match range of numbers between 1 to 5 !!! [a-zA-Z]\n",
    "text = '1234567851'\n",
    "pattern = re.compile(r'[1-5]')\n",
    "# pattern = re.compile(r'[A-Za-z]')\n",
    "    \n",
    "matches = pattern.finditer(text)\n",
    "    \n",
    "for match in matches:\n",
    "        print(match)\n",
    "        \n",
    "        "
   ]
  },
  {
   "cell_type": "code",
   "execution_count": 53,
   "metadata": {},
   "outputs": [
    {
     "name": "stdout",
     "output_type": "stream",
     "text": [
      "<_sre.SRE_Match object; span=(1, 4), match='cat'>\n",
      "<_sre.SRE_Match object; span=(9, 12), match='mat'>\n"
     ]
    }
   ],
   "source": [
    "# Negate ^ match a single character that is not b and follower by \n",
    "# some characters\n",
    "text = '''\n",
    "cat\n",
    "bat\n",
    "mat\n",
    "'''\n",
    "pattern = re.compile(r'[^b]at')\n",
    "\n",
    "matches = pattern.finditer(text)\n",
    "\n",
    "for i in matches:\n",
    "    print(i)\n"
   ]
  },
  {
   "cell_type": "code",
   "execution_count": 54,
   "metadata": {},
   "outputs": [
    {
     "name": "stdout",
     "output_type": "stream",
     "text": [
      "<_sre.SRE_Match object; span=(1, 8), match='123.456'>\n",
      "<_sre.SRE_Match object; span=(14, 21), match='345-654'>\n"
     ]
    }
   ],
   "source": [
    "text = '''\n",
    "123.456.7890\n",
    "345-654-4566\n",
    "'''\n",
    "pattern = re.compile(r'\\d{3}.\\d{3}')\n",
    "\n",
    "matches = pattern.finditer(text)\n",
    "\n",
    "for i in matches:\n",
    "    print(i)"
   ]
  },
  {
   "cell_type": "code",
   "execution_count": 70,
   "metadata": {},
   "outputs": [
    {
     "name": "stdout",
     "output_type": "stream",
     "text": [
      "<_sre.SRE_Match object; span=(11, 19), match='Mr Vijay'>\n",
      "<_sre.SRE_Match object; span=(20, 29), match='Ms Sindhu'>\n",
      "<_sre.SRE_Match object; span=(30, 40), match='Mrs Rajesh'>\n",
      "<_sre.SRE_Match object; span=(41, 46), match='Mr. T'>\n"
     ]
    }
   ],
   "source": [
    "text = '''\n",
    "Mr.Sanjay\n",
    "Mr Vijay\n",
    "Ms Sindhu\n",
    "Mrs Rajesh\n",
    "Mr. T\n",
    "'''\n",
    "#pattern = re.compile(r'Mr\\.?\\s[A-Z]\\w*')           \n",
    "pattern = re.compile(r'M(r|s|rs)\\.?\\s[A-Z]\\w*')           \n",
    "\n",
    "matches = pattern.finditer(text)\n",
    "\n",
    "for i in matches:\n",
    "    print(i)\n",
    "    "
   ]
  },
  {
   "cell_type": "code",
   "execution_count": 80,
   "metadata": {},
   "outputs": [
    {
     "name": "stdout",
     "output_type": "stream",
     "text": [
      "<_sre.SRE_Match object; span=(1, 17), match='sanjay.m@aig.com'>\n",
      "<_sre.SRE_Match object; span=(18, 33), match='vijay@gmail.com'>\n",
      "<_sre.SRE_Match object; span=(34, 53), match='SINDHU-@hotmail.edu'>\n"
     ]
    }
   ],
   "source": [
    "emails = '''\n",
    "sanjay.m@aig.com\n",
    "vijay@gmail.com\n",
    "SINDHU-@hotmail.edu\n",
    "'''\n",
    "pattern = re.compile(r'[a-zA-Z.-]+@[a-zA-Z]+\\.[a-zA-Z]+')\n",
    "\n",
    "matches = pattern.finditer(emails)\n",
    "\n",
    "for i in matches:\n",
    "    print(i)\n"
   ]
  },
  {
   "cell_type": "code",
   "execution_count": 100,
   "metadata": {},
   "outputs": [
    {
     "name": "stdout",
     "output_type": "stream",
     "text": [
      "https://www.google.com\n",
      "www.\n",
      "google\n",
      "https://coreyms.gov\n",
      "None\n",
      "coreyms\n",
      "http://youtbe.com\n",
      "None\n",
      "youtbe\n"
     ]
    }
   ],
   "source": [
    "urls = '''\n",
    "https://www.google.com\n",
    "https://coreyms.gov\n",
    "http://youtbe.com\n",
    "'''\n",
    "\n",
    "pattern = re.compile(r'https?://(www\\.)?(\\w+)(\\.\\w+)')\n",
    "matches = pattern.finditer(urls)\n",
    "\n",
    "for match in matches:\n",
    "    print(match.group(0))\n",
    "    print(match.group(1))\n",
    "    print(match.group(2))\n",
    "\n"
   ]
  },
  {
   "cell_type": "code",
   "execution_count": 101,
   "metadata": {},
   "outputs": [
    {
     "name": "stdout",
     "output_type": "stream",
     "text": [
      "\n",
      "google.com\n",
      "coreyms.gov\n",
      "youtbe.com\n",
      "\n"
     ]
    }
   ],
   "source": [
    "\n",
    "#using a pattern to sbstitute with group 2 and 3\n",
    "urls = '''\n",
    "https://www.google.com\n",
    "https://coreyms.gov\n",
    "http://youtbe.com\n",
    "'''\n",
    "\n",
    "pattern = re.compile(r'https?://(www\\.)?(\\w+)(\\.\\w+)')\n",
    "\n",
    "subbed_urls = pattern.sub(r'\\2\\3',urls)\n",
    "print(subbed_urls)\n",
    "\n"
   ]
  },
  {
   "cell_type": "code",
   "execution_count": 110,
   "metadata": {},
   "outputs": [
    {
     "name": "stdout",
     "output_type": "stream",
     "text": [
      "https://www.google.com\n",
      "https://coreyms.gov\n"
     ]
    }
   ],
   "source": [
    "#finditer results in a match object\n",
    "# findall method just prints the string without the location\n",
    "# if there are groups, it will return a tuple with the groups\n",
    "urls = '''\n",
    "https://www.google.com\n",
    "https://coreyms.gov\n",
    "http://youtbe.com\n",
    "'''\n",
    "\n",
    "pattern = re.compile(r'https+.*')\n",
    "\n",
    "matches= pattern.findall(urls)\n",
    "for match in matches:\n",
    "    print(match)\n",
    "    \n",
    "\n",
    "\n"
   ]
  },
  {
   "cell_type": "code",
   "execution_count": 116,
   "metadata": {},
   "outputs": [
    {
     "name": "stdout",
     "output_type": "stream",
     "text": [
      "<_sre.SRE_Match object; span=(50, 53), match='you'>\n"
     ]
    }
   ],
   "source": [
    "#just want to print a match string use match method\n",
    "#match method doesnt return in iterable\n",
    "# matches search only at the begining\n",
    "# search method seraches the entire string\n",
    "urls = '''https://www.google.com\n",
    "https://coreyms.gov\n",
    "http://youtbe.com\n",
    "'''\n",
    "pattern = re.compile(r'you')\n",
    "#\n",
    "# matches = pattern.match(urls)\n",
    "matches = pattern.search(urls)\n",
    "\n",
    "print(matches)\n",
    "\n",
    "\n"
   ]
  },
  {
   "cell_type": "code",
   "execution_count": 117,
   "metadata": {},
   "outputs": [
    {
     "name": "stdout",
     "output_type": "stream",
     "text": [
      "<_sre.SRE_Match object; span=(0, 2), match='My'>\n"
     ]
    }
   ],
   "source": [
    "# add a flag to the search pattern -I for Ignore case \n",
    "#M multiline string use ^$ to match string at th begening and end\n",
    "text = 'My Text'\n",
    "\n",
    "pattern = re.compile(r'my',re.I)\n",
    "\n",
    "matches = pattern.search(text)\n",
    "\n",
    "print(matches)"
   ]
  },
  {
   "cell_type": "code",
   "execution_count": null,
   "metadata": {},
   "outputs": [],
   "source": []
  }
 ],
 "metadata": {
  "kernelspec": {
   "display_name": "Python 3",
   "language": "python",
   "name": "python3"
  },
  "language_info": {
   "codemirror_mode": {
    "name": "ipython",
    "version": 3
   },
   "file_extension": ".py",
   "mimetype": "text/x-python",
   "name": "python",
   "nbconvert_exporter": "python",
   "pygments_lexer": "ipython3",
   "version": "3.6.5"
  }
 },
 "nbformat": 4,
 "nbformat_minor": 2
}
