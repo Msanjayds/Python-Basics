{
 "cells": [
  {
   "cell_type": "markdown",
   "metadata": {},
   "source": [
    "# Regular expressions options\n",
    "   1. . -  Any character Except New line\n",
    "   2. \\d - Digit (0-9)\n",
    "   3. \\D - Not a Digit (0-9)\n",
    "   4. \\w  Word character (a-z, A-Z, 0-9, _)\n",
    "   5. \\W  Nota word character\n",
    "   6. \\s  Whihtespace (space, tabe, newline)\n",
    "   7. \\S  Not Whitespace (Space tab newline)\n",
    "   8. \\b  Word Boundary\n",
    "   9. \\B  Not a word bounday\n",
    "   10. ^  Begining of a string\n",
    "   11. Below ar are the anchors.\n",
    "   11. $  End of a string\n",
    "   12. [] Matches characcters in brackets\n",
    "   13. [^ ] Matches chars not in brackets\n",
    " # Quantifiers:\n",
    "  1. * - 0 or more\n",
    "  2. + - 1 or more\n",
    "  3. ? - 0 or one\n",
    "  4. {3} - Exact number\n",
    "  5. {3,4} - Range of numbers(min,max)"
   ]
  },
  {
   "cell_type": "code",
   "execution_count": 1,
   "metadata": {},
   "outputs": [
    {
     "name": "stdout",
     "output_type": "stream",
     "text": [
      "<_sre.SRE_Match object; span=(1, 4), match='abc'>\n",
      "abc\n"
     ]
    }
   ],
   "source": [
    "import re #package for regular expressions\n",
    "\n",
    "text_to_serach = '''\n",
    "abcdefhijklmnopqurstuvwxyz\n",
    "ABCDEFGHIJKLMNOPQRSTUVWXYZ\n",
    "'''\n",
    "pattern = re.compile(r'abc') #create a pattern to serach for the raw string 'abc'\n",
    "\n",
    "matches = pattern.finditer(text_to_serach)\n",
    "\n",
    "for match in matches:\n",
    "    print(match)\n",
    "    \n",
    "print(text_to_serach[1:4])\n",
    "    "
   ]
  },
  {
   "cell_type": "code",
   "execution_count": 4,
   "metadata": {},
   "outputs": [
    {
     "name": "stdout",
     "output_type": "stream",
     "text": [
      "<_sre.SRE_Match object; span=(55, 63), match='sanjay.m'>\n"
     ]
    }
   ],
   "source": [
    "text_to_serach = '''\n",
    "abcdefhijklmnopqurstuvwxyz\n",
    "ABCDEFGHIJKLMNOPQRSTUVWXYZ\n",
    "sanjay.m\n",
    "'''\n",
    "pattern = re.compile(r'sanjay\\.m')   # use escape character (\\) if you want to period '.' to be part of serach string\n",
    "\n",
    "matches = pattern.finditer(text_to_serach)\n",
    "\n",
    "for match in matches:\n",
    "    print(match)"
   ]
  },
  {
   "cell_type": "code",
   "execution_count": 13,
   "metadata": {},
   "outputs": [
    {
     "name": "stdout",
     "output_type": "stream",
     "text": [
      "<_sre.SRE_Match object; span=(37, 40), match='Had'>\n"
     ]
    }
   ],
   "source": [
    "text_to_serach = '''\n",
    "abcdefhijklmnopqurstuvwxyz\n",
    "sanjay.m\n",
    "Had Hat\n",
    "hiHad\n",
    "'''\n",
    "\n",
    "pattern = re.compile(r'\\bHad')  #\\b to search texts at word boundary (spaces or new line)\n",
    "\n",
    "matches = pattern.finditer(text_to_serach)\n",
    "\n",
    "for match in matches:\n",
    "    print(match)"
   ]
  },
  {
   "cell_type": "code",
   "execution_count": 14,
   "metadata": {},
   "outputs": [
    {
     "name": "stdout",
     "output_type": "stream",
     "text": [
      "<_sre.SRE_Match object; span=(47, 50), match='Had'>\n"
     ]
    }
   ],
   "source": [
    "pattern = re.compile(r'\\BHad')\n",
    "\n",
    "matches = pattern.finditer(text_to_serach) #\\B to search texts at other than word boundary \n",
    "\n",
    "for match in matches:\n",
    "    print(match)"
   ]
  },
  {
   "cell_type": "code",
   "execution_count": 16,
   "metadata": {},
   "outputs": [
    {
     "name": "stdout",
     "output_type": "stream",
     "text": [
      "<_sre.SRE_Match object; span=(0, 5), match='start'>\n"
     ]
    }
   ],
   "source": [
    "sentence = 'start a sentence and make it end'\n",
    "\n",
    "pattern = re.compile(r'^start')  # to serach for string at the begining of a sentence\n",
    "\n",
    "matches = pattern.finditer(sentence)\n",
    "\n",
    "for match in matches:\n",
    "    print(match)"
   ]
  },
  {
   "cell_type": "code",
   "execution_count": 34,
   "metadata": {},
   "outputs": [
    {
     "name": "stdout",
     "output_type": "stream",
     "text": [
      "<_sre.SRE_Match object; span=(29, 32), match='end'>\n"
     ]
    }
   ],
   "source": [
    "pattern = re.compile(r'end$') # to serach for string at the end of a sentence\n",
    "\n",
    "matches = pattern.finditer(sentence)\n",
    "\n",
    "for match in matches:\n",
    "    print(match)"
   ]
  },
  {
   "cell_type": "code",
   "execution_count": 17,
   "metadata": {},
   "outputs": [
    {
     "name": "stdout",
     "output_type": "stream",
     "text": [
      "<_sre.SRE_Match object; span=(1, 4), match='123'>\n",
      "<_sre.SRE_Match object; span=(4, 7), match='456'>\n",
      "<_sre.SRE_Match object; span=(7, 10), match='789'>\n",
      "<_sre.SRE_Match object; span=(12, 15), match='123'>\n",
      "<_sre.SRE_Match object; span=(16, 19), match='456'>\n",
      "<_sre.SRE_Match object; span=(20, 23), match='789'>\n",
      "<_sre.SRE_Match object; span=(24, 27), match='123'>\n",
      "<_sre.SRE_Match object; span=(28, 31), match='456'>\n"
     ]
    }
   ],
   "source": [
    "text_to_serach = '''\n",
    "1234567890\n",
    "123-456-789\n",
    "123.456\n",
    "'''\n",
    "pattern = re.compile(r'\\d\\d\\d') # serach for 3 digits pair\n",
    "\n",
    "matches = pattern.finditer(text_to_serach)\n",
    "\n",
    "for match in matches:\n",
    "    print(match)\n"
   ]
  },
  {
   "cell_type": "code",
   "execution_count": 18,
   "metadata": {},
   "outputs": [
    {
     "name": "stdout",
     "output_type": "stream",
     "text": [
      "<_sre.SRE_Match object; span=(1, 8), match='1234567'>\n",
      "<_sre.SRE_Match object; span=(12, 19), match='123-456'>\n"
     ]
    }
   ],
   "source": [
    "# serach for 3 digits followed by any charcter and then 3 digits\n",
    "\n",
    "text_to_serach = '''\n",
    "1234567890\n",
    "123-456-789\n",
    "123.45\n",
    "'''\n",
    "# period matches any character\n",
    "pattern = re.compile(r'\\d\\d\\d.\\d\\d\\d')  \n",
    "\n",
    "matches = pattern.finditer(text_to_serach)\n",
    "\n",
    "for match in matches:\n",
    "    print(match)"
   ]
  },
  {
   "cell_type": "code",
   "execution_count": 19,
   "metadata": {},
   "outputs": [
    {
     "name": "stdout",
     "output_type": "stream",
     "text": [
      "<_sre.SRE_Match object; span=(0, 1), match='1'>\n",
      "<_sre.SRE_Match object; span=(1, 2), match='2'>\n",
      "<_sre.SRE_Match object; span=(2, 3), match='3'>\n",
      "<_sre.SRE_Match object; span=(3, 4), match='4'>\n",
      "<_sre.SRE_Match object; span=(4, 5), match='5'>\n",
      "<_sre.SRE_Match object; span=(8, 9), match='5'>\n",
      "<_sre.SRE_Match object; span=(9, 10), match='1'>\n"
     ]
    }
   ],
   "source": [
    "# match range of numbers between 1 to 5, similar we can serach for [a-zA-Z]\n",
    "text = '1234567851'\n",
    "pattern = re.compile(r'[1-5]')\n",
    "# pattern = re.compile(r'[A-Za-z]')\n",
    "    \n",
    "matches = pattern.finditer(text)\n",
    "    \n",
    "for match in matches:\n",
    "        print(match)\n",
    "        \n",
    "        "
   ]
  },
  {
   "cell_type": "code",
   "execution_count": 53,
   "metadata": {},
   "outputs": [
    {
     "name": "stdout",
     "output_type": "stream",
     "text": [
      "<_sre.SRE_Match object; span=(1, 4), match='cat'>\n",
      "<_sre.SRE_Match object; span=(9, 12), match='mat'>\n"
     ]
    }
   ],
   "source": [
    "# Negate ^ match a single character that doesnt start with b and follower by \n",
    "# some characters\n",
    "text = '''\n",
    "cat\n",
    "bat\n",
    "mat\n",
    "'''\n",
    "pattern = re.compile(r'[^b]at')\n",
    "\n",
    "matches = pattern.finditer(text)\n",
    "\n",
    "for i in matches:\n",
    "    print(i)\n"
   ]
  },
  {
   "cell_type": "code",
   "execution_count": 54,
   "metadata": {},
   "outputs": [
    {
     "name": "stdout",
     "output_type": "stream",
     "text": [
      "<_sre.SRE_Match object; span=(1, 8), match='123.456'>\n",
      "<_sre.SRE_Match object; span=(14, 21), match='345-654'>\n"
     ]
    }
   ],
   "source": [
    "# specifiy number of digits to match within flower brackets d{3}\n",
    "\n",
    "text = '''\n",
    "123.456.7890\n",
    "345-654-4566\n",
    "'''\n",
    "pattern = re.compile(r'\\d{3}.\\d{3}') \n",
    "\n",
    "matches = pattern.finditer(text)\n",
    "\n",
    "for i in matches:\n",
    "    print(i)"
   ]
  },
  {
   "cell_type": "code",
   "execution_count": 70,
   "metadata": {},
   "outputs": [
    {
     "name": "stdout",
     "output_type": "stream",
     "text": [
      "<_sre.SRE_Match object; span=(11, 19), match='Mr Vijay'>\n",
      "<_sre.SRE_Match object; span=(20, 29), match='Ms Sindhu'>\n",
      "<_sre.SRE_Match object; span=(30, 40), match='Mrs Rajesh'>\n",
      "<_sre.SRE_Match object; span=(41, 46), match='Mr. T'>\n"
     ]
    }
   ],
   "source": [
    "# Search for strings which start with Mr/mr/mrs etc.\n",
    "# question mark quantifier to tell that any character before which is optional\n",
    "# \\w* for any word character followed by characters.\n",
    "\n",
    "text = '''\n",
    "Mr.Sanjay\n",
    "Mr Vijay\n",
    "Ms Sindhu\n",
    "Mrs Rajesh\n",
    "Mr. T\n",
    "'''\n",
    "#pattern = re.compile(r'Mr\\.?\\s[A-Z]\\w*')           \n",
    "pattern = re.compile(r'M(r|s|rs)\\.?\\s[A-Z]\\w*')           \n",
    "\n",
    "matches = pattern.finditer(text)\n",
    "\n",
    "for i in matches:\n",
    "    print(i)\n",
    "    "
   ]
  },
  {
   "cell_type": "code",
   "execution_count": 80,
   "metadata": {},
   "outputs": [
    {
     "name": "stdout",
     "output_type": "stream",
     "text": [
      "<_sre.SRE_Match object; span=(1, 17), match='sanjay.m@aig.com'>\n",
      "<_sre.SRE_Match object; span=(18, 33), match='vijay@gmail.com'>\n",
      "<_sre.SRE_Match object; span=(34, 53), match='SINDHU-@hotmail.edu'>\n"
     ]
    }
   ],
   "source": [
    "emails = '''\n",
    "sanjay.m@aig.com\n",
    "vijay@gmail.com\n",
    "SINDHU-@hotmail.edu\n",
    "'''\n",
    "pattern = re.compile(r'[a-zA-Z.-]+@[a-zA-Z]+\\.[a-zA-Z]+')\n",
    "\n",
    "matches = pattern.finditer(emails)\n",
    "\n",
    "for i in matches:\n",
    "    print(i)\n"
   ]
  },
  {
   "cell_type": "code",
   "execution_count": 100,
   "metadata": {},
   "outputs": [
    {
     "name": "stdout",
     "output_type": "stream",
     "text": [
      "https://www.google.com\n",
      "www.\n",
      "google\n",
      "https://coreyms.gov\n",
      "None\n",
      "coreyms\n",
      "http://youtbe.com\n",
      "None\n",
      "youtbe\n"
     ]
    }
   ],
   "source": [
    "# example to capture the domain name from the urls.\n",
    "# use paranthesis to use groups.\n",
    "\n",
    "urls = '''\n",
    "https://www.google.com\n",
    "https://coreyms.gov\n",
    "http://youtbe.com\n",
    "'''\n",
    "\n",
    "pattern = re.compile(r'https?://(www\\.)?(\\w+)(\\.\\w+)')\n",
    "matches = pattern.finditer(urls)\n",
    "\n",
    "for match in matches:\n",
    "    print(match.group(0)) #groupu(0) is for the entire string we capture\n",
    "    print(match.group(1))\n",
    "    print(match.group(2))\n",
    "\n"
   ]
  },
  {
   "cell_type": "code",
   "execution_count": 101,
   "metadata": {},
   "outputs": [
    {
     "name": "stdout",
     "output_type": "stream",
     "text": [
      "\n",
      "google.com\n",
      "coreyms.gov\n",
      "youtbe.com\n",
      "\n"
     ]
    }
   ],
   "source": [
    "\n",
    "#using a pattern to sbstitute with group 2 and 3\n",
    "urls = '''\n",
    "https://www.google.com\n",
    "https://coreyms.gov\n",
    "http://youtbe.com\n",
    "'''\n",
    "\n",
    "pattern = re.compile(r'https?://(www\\.)?(\\w+)(\\.\\w+)')\n",
    "\n",
    "#replace the urls with domain names (group 2 and 3).\n",
    "#every time it finds a match it will replace that url with group 2 and 3.\n",
    "subbed_urls = pattern.sub(r'\\2\\3',urls)\n",
    "print(subbed_urls)\n",
    "\n"
   ]
  },
  {
   "cell_type": "code",
   "execution_count": 110,
   "metadata": {},
   "outputs": [
    {
     "name": "stdout",
     "output_type": "stream",
     "text": [
      "https://www.google.com\n",
      "https://coreyms.gov\n"
     ]
    }
   ],
   "source": [
    "#finditer results in a match object with extra info.\n",
    "# findall method just prints the string without the location\n",
    "# if there are groups, it will return a tuple with the groups\n",
    "\n",
    "urls = '''\n",
    "https://www.google.com\n",
    "https://coreyms.gov\n",
    "http://youtbe.com\n",
    "'''\n",
    "\n",
    "pattern = re.compile(r'https+.*')\n",
    "\n",
    "matches= pattern.findall(urls)\n",
    "for match in matches:\n",
    "    print(match)\n",
    "    \n",
    "\n",
    "\n"
   ]
  },
  {
   "cell_type": "code",
   "execution_count": 21,
   "metadata": {},
   "outputs": [
    {
     "name": "stdout",
     "output_type": "stream",
     "text": [
      "<_sre.SRE_Match object; span=(50, 53), match='you'>\n"
     ]
    }
   ],
   "source": [
    "#If you just want serach a string at the begining of a string use 'match' method\n",
    "# match method doesnt return in iterable like findall/finditer\n",
    "# matches search only at the begining\n",
    "# search method seraches the entire string\n",
    "\n",
    "urls = '''https://www.google.com\n",
    "https://coreyms.gov\n",
    "http://youtbe.com\n",
    "'''\n",
    "pattern = re.compile(r'you')\n",
    "\n",
    "matches = pattern.search(urls)\n",
    "\n",
    "print(matches)"
   ]
  },
  {
   "cell_type": "code",
   "execution_count": 22,
   "metadata": {},
   "outputs": [
    {
     "name": "stdout",
     "output_type": "stream",
     "text": [
      "None\n"
     ]
    }
   ],
   "source": [
    "urls = '''https://www.google.com\n",
    "https://coreyms.gov\n",
    "http://youtbe.com\n",
    "'''\n",
    "pattern = re.compile(r'you')\n",
    "\n",
    "matches = pattern.match(urls)\n",
    "\n",
    "print(matches)"
   ]
  },
  {
   "cell_type": "code",
   "execution_count": 117,
   "metadata": {},
   "outputs": [
    {
     "name": "stdout",
     "output_type": "stream",
     "text": [
      "<_sre.SRE_Match object; span=(0, 2), match='My'>\n"
     ]
    }
   ],
   "source": [
    "# add ' I' flag to the search pattern to Ignore case \n",
    "text = 'My Text'\n",
    "\n",
    "pattern = re.compile(r'my',re.I) \n",
    "\n",
    "matches = pattern.search(text)\n",
    "\n",
    "print(matches)"
   ]
  }
 ],
 "metadata": {
  "kernelspec": {
   "display_name": "Python 3",
   "language": "python",
   "name": "python3"
  },
  "language_info": {
   "codemirror_mode": {
    "name": "ipython",
    "version": 3
   },
   "file_extension": ".py",
   "mimetype": "text/x-python",
   "name": "python",
   "nbconvert_exporter": "python",
   "pygments_lexer": "ipython3",
   "version": "3.6.5"
  }
 },
 "nbformat": 4,
 "nbformat_minor": 2
}
