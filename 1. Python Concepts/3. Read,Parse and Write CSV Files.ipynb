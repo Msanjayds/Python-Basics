{
 "cells": [
  {
   "cell_type": "markdown",
   "metadata": {},
   "source": [
    "# Read, Parse and Write CSV files"
   ]
  },
  {
   "cell_type": "code",
   "execution_count": 54,
   "metadata": {
    "scrolled": true
   },
   "outputs": [
    {
     "name": "stdout",
     "output_type": "stream",
     "text": [
      "['JURISDICTION NAME', 'COUNT PARTICIPANTS', 'COUNT FEMALE', 'PERCENT FEMALE', 'COUNT MALE']\n",
      "['10001', '44', '22', '0.5', '22']\n",
      "['10002', '35', '19', '0.54', '16']\n",
      "['10003', '1', '1', '1', '0']\n",
      "['10004', '0', '0', '0', '0']\n",
      "['10005', '2', '2', '1', '0']\n",
      "['10006', '6', '2', '0.33', '4']\n",
      "['10007', '1', '0', '0', '1']\n",
      "['10009', '2', '0', '0', '2']\n",
      "['10010', '0', '0', '0', '0']\n"
     ]
    }
   ],
   "source": [
    "#improt csv module\n",
    "import csv\n",
    "\n",
    "with open('Dem_Stats.csv','r') as in_csv:\n",
    "    csv_reader = csv.reader(in_csv)\n",
    "\n",
    "    for line in csv_reader:\n",
    "        print(line)\n",
    "\n"
   ]
  },
  {
   "cell_type": "code",
   "execution_count": 55,
   "metadata": {
    "scrolled": true
   },
   "outputs": [
    {
     "name": "stdout",
     "output_type": "stream",
     "text": [
      "JURISDICTION NAME\n",
      "10001\n",
      "10002\n",
      "10003\n",
      "10004\n",
      "10005\n",
      "10006\n",
      "10007\n",
      "10009\n",
      "10010\n"
     ]
    }
   ],
   "source": [
    "#to selct only the column 1\n",
    "\n",
    "with open('Dem_Stats.csv','r') as in_csv:\n",
    "    csv_reader = csv.reader(in_csv)\n",
    "\n",
    "    for line in csv_reader:\n",
    "        print(line[0])\n"
   ]
  },
  {
   "cell_type": "code",
   "execution_count": 56,
   "metadata": {},
   "outputs": [
    {
     "name": "stdout",
     "output_type": "stream",
     "text": [
      "10001\n",
      "10002\n",
      "10003\n",
      "10004\n",
      "10005\n",
      "10006\n",
      "10007\n",
      "10009\n",
      "10010\n"
     ]
    }
   ],
   "source": [
    "#to skip over the first line (record header)\n",
    "\n",
    "with open('Dem_Stats.csv','r') as in_csv:\n",
    "    csv_reader = csv.reader(in_csv)\n",
    "    \n",
    "    next(csv_reader) #this will loop over the first line\n",
    "    \n",
    "    for line in csv_reader:\n",
    "        print(line[0])\n",
    "\n"
   ]
  },
  {
   "cell_type": "code",
   "execution_count": 62,
   "metadata": {},
   "outputs": [
    {
     "name": "stdout",
     "output_type": "stream",
     "text": [
      "['JURISDICTION NAME', 'COUNT PARTICIPANTS', 'COUNT FEMALE', 'PERCENT FEMALE', 'COUNT MALE']\n",
      "['10001', '44', '22', '0.5', '22']\n",
      "['10002', '35', '19', '0.54', '16']\n",
      "['10003', '1', '1', '1', '0']\n",
      "['10004', '0', '0', '0', '0']\n",
      "['10005', '2', '2', '1', '0']\n",
      "['10006', '6', '2', '0.33', '4']\n",
      "['10007', '1', '0', '0', '1']\n",
      "['10009', '2', '0', '0', '2']\n",
      "['10010', '0', '0', '0', '0']\n",
      "['.ipynb_checkpoints', 'Dem_Stats.csv', 'New folder', 'NEW_FILE.csv', 'NEW_FILE_1.csv', 'pb', 'Read,Parse and Write CSV Files.ipynb']\n"
     ]
    }
   ],
   "source": [
    "#use writer method of csv module to write to a new file\n",
    "\n",
    "with open('Dem_Stats.csv','r') as in_csv:\n",
    "    csv_reader = csv.reader(in_csv)\n",
    "    \n",
    "    with open('NEW_FILE.csv', 'w',newline='') as NEW_FILE:\n",
    "        csv_writer = csv.writer(NEW_FILE)\n",
    "            \n",
    "        for line in csv_reader:\n",
    "            csv_writer.writerow(line)\n",
    "            print(line)\n",
    "\n",
    "#print the contents of the working directory\n",
    "\n",
    "print(os.listdir(os.getcwd())) # we can see NEW_FILE.csv got created"
   ]
  },
  {
   "cell_type": "code",
   "execution_count": 65,
   "metadata": {},
   "outputs": [
    {
     "name": "stdout",
     "output_type": "stream",
     "text": [
      "['JURISDICTION NAME', 'COUNT PARTICIPANTS', 'COUNT FEMALE', 'PERCENT FEMALE', 'COUNT MALE']\n",
      "['10001', '44', '22', '0.5', '22']\n",
      "['10002', '35', '19', '0.54', '16']\n",
      "['10003', '1', '1', '1', '0']\n",
      "['10004', '0', '0', '0', '0']\n",
      "['10005', '2', '2', '1', '0']\n",
      "['10006', '6', '2', '0.33', '4']\n",
      "['10007', '1', '0', '0', '1']\n",
      "['10009', '2', '0', '0', '2']\n",
      "['10010', '0', '0', '0', '0']\n"
     ]
    }
   ],
   "source": [
    "#new file delemited by tab\n",
    "\n",
    "with open('Dem_Stats.csv','r') as in_csv:\n",
    "    csv_reader = csv.reader(in_csv)\n",
    "    \n",
    "    with open('NEW_FILE_1.csv','w',newline='') as new_csv:\n",
    "        csv_writer = csv.writer(new_csv,delimiter='\\t')\n",
    "\n",
    "        for line in csv_reader:\n",
    "            csv_writer.writerow(line)\n",
    "            \n",
    "#mention the delimiter while reading.\n",
    "\n",
    "with open('NEW_FILE_1.csv','r') as in_csv:\n",
    "    csv_reader = csv.reader(in_csv,delimiter='\\t')\n",
    "    \n",
    "    for i in csv_reader:\n",
    "        print(i)\n",
    "        "
   ]
  },
  {
   "cell_type": "code",
   "execution_count": 70,
   "metadata": {
    "scrolled": true
   },
   "outputs": [
    {
     "name": "stdout",
     "output_type": "stream",
     "text": [
      "OrderedDict([('JURISDICTION NAME', '10001'), ('COUNT PARTICIPANTS', '44'), ('COUNT FEMALE', '22'), ('PERCENT FEMALE', '0.5'), ('COUNT MALE', '22')])\n",
      "OrderedDict([('JURISDICTION NAME', '10002'), ('COUNT PARTICIPANTS', '35'), ('COUNT FEMALE', '19'), ('PERCENT FEMALE', '0.54'), ('COUNT MALE', '16')])\n",
      "OrderedDict([('JURISDICTION NAME', '10003'), ('COUNT PARTICIPANTS', '1'), ('COUNT FEMALE', '1'), ('PERCENT FEMALE', '1'), ('COUNT MALE', '0')])\n",
      "OrderedDict([('JURISDICTION NAME', '10004'), ('COUNT PARTICIPANTS', '0'), ('COUNT FEMALE', '0'), ('PERCENT FEMALE', '0'), ('COUNT MALE', '0')])\n",
      "OrderedDict([('JURISDICTION NAME', '10005'), ('COUNT PARTICIPANTS', '2'), ('COUNT FEMALE', '2'), ('PERCENT FEMALE', '1'), ('COUNT MALE', '0')])\n",
      "OrderedDict([('JURISDICTION NAME', '10006'), ('COUNT PARTICIPANTS', '6'), ('COUNT FEMALE', '2'), ('PERCENT FEMALE', '0.33'), ('COUNT MALE', '4')])\n",
      "OrderedDict([('JURISDICTION NAME', '10007'), ('COUNT PARTICIPANTS', '1'), ('COUNT FEMALE', '0'), ('PERCENT FEMALE', '0'), ('COUNT MALE', '1')])\n",
      "OrderedDict([('JURISDICTION NAME', '10009'), ('COUNT PARTICIPANTS', '2'), ('COUNT FEMALE', '0'), ('PERCENT FEMALE', '0'), ('COUNT MALE', '2')])\n",
      "OrderedDict([('JURISDICTION NAME', '10010'), ('COUNT PARTICIPANTS', '0'), ('COUNT FEMALE', '0'), ('PERCENT FEMALE', '0'), ('COUNT MALE', '0')])\n"
     ]
    }
   ],
   "source": [
    "#reading with DictReader method, this makes it easier to parse \n",
    "\n",
    "with open('NEW_FILE_1.csv','r') as in_data:\n",
    "     read_data = csv.DictReader(in_data,delimiter='\\t')\n",
    "    \n",
    "     for line in read_data:\n",
    "        print(line)\n",
    "     "
   ]
  },
  {
   "cell_type": "code",
   "execution_count": 82,
   "metadata": {},
   "outputs": [
    {
     "name": "stdout",
     "output_type": "stream",
     "text": [
      "0.5\n",
      "0.54\n",
      "1\n",
      "0\n",
      "1\n",
      "0.33\n",
      "0\n",
      "0\n",
      "0\n",
      "Help on class DictWriter in module csv:\n",
      "\n",
      "class DictWriter(builtins.object)\n",
      " |  Methods defined here:\n",
      " |  \n",
      " |  __init__(self, f, fieldnames, restval='', extrasaction='raise', dialect='excel', *args, **kwds)\n",
      " |      Initialize self.  See help(type(self)) for accurate signature.\n",
      " |  \n",
      " |  writeheader(self)\n",
      " |  \n",
      " |  writerow(self, rowdict)\n",
      " |  \n",
      " |  writerows(self, rowdicts)\n",
      " |  \n",
      " |  ----------------------------------------------------------------------\n",
      " |  Data descriptors defined here:\n",
      " |  \n",
      " |  __dict__\n",
      " |      dictionary for instance variables (if defined)\n",
      " |  \n",
      " |  __weakref__\n",
      " |      list of weak references to the object (if defined)\n",
      "\n"
     ]
    }
   ],
   "source": [
    "#To read the 'PERCENT FEMALE' column u need not to know the index\n",
    "# you can just give the KEY (column) name with DictReader method\n",
    "\n",
    "with open('NEW_FILE_1.csv','r') as in_data:\n",
    "     read_data = csv.DictReader(in_data,delimiter='\\t')\n",
    "    \n",
    "     for line in read_data:\n",
    "        print(line['PERCENT FEMALE'])     \n",
    "    \n",
    "    \n",
    "help(csv.DictWriter)"
   ]
  },
  {
   "cell_type": "code",
   "execution_count": 100,
   "metadata": {
    "collapsed": true
   },
   "outputs": [
    {
     "ename": "TypeError",
     "evalue": "'DictWriter' object is not callable",
     "output_type": "error",
     "traceback": [
      "\u001b[1;31m---------------------------------------------------------------------------\u001b[0m",
      "\u001b[1;31mTypeError\u001b[0m                                 Traceback (most recent call last)",
      "\u001b[1;32m<ipython-input-100-001f931d3fcf>\u001b[0m in \u001b[0;36m<module>\u001b[1;34m()\u001b[0m\n\u001b[0;32m      6\u001b[0m           \u001b[0mfieldnames\u001b[0m\u001b[1;33m=\u001b[0m\u001b[1;33m[\u001b[0m\u001b[1;34m'JURISDICTION NAME'\u001b[0m\u001b[1;33m,\u001b[0m \u001b[1;34m'COUNT PARTICIPANTS'\u001b[0m\u001b[1;33m,\u001b[0m \u001b[1;34m'COUNT FEMALE'\u001b[0m\u001b[1;33m]\u001b[0m\u001b[1;33m\u001b[0m\u001b[0m\n\u001b[0;32m      7\u001b[0m \u001b[1;33m\u001b[0m\u001b[0m\n\u001b[1;32m----> 8\u001b[1;33m           \u001b[0mcsv_writer\u001b[0m\u001b[1;33m=\u001b[0m\u001b[0mcsv\u001b[0m\u001b[1;33m.\u001b[0m\u001b[0mDictWriter\u001b[0m\u001b[1;33m(\u001b[0m\u001b[0mwrite_data\u001b[0m\u001b[1;33m,\u001b[0m\u001b[0mfieldnames\u001b[0m\u001b[1;33m=\u001b[0m\u001b[0mfieldnames\u001b[0m\u001b[1;33m)\u001b[0m\u001b[1;33m\u001b[0m\u001b[0m\n\u001b[0m\u001b[0;32m      9\u001b[0m \u001b[1;33m\u001b[0m\u001b[0m\n\u001b[0;32m     10\u001b[0m           \u001b[1;32mfor\u001b[0m \u001b[0mi\u001b[0m \u001b[1;32min\u001b[0m \u001b[0mread_data\u001b[0m\u001b[1;33m:\u001b[0m\u001b[1;33m\u001b[0m\u001b[0m\n",
      "\u001b[1;32mC:\\ProgramData\\Anaconda3\\lib\\csv.py\u001b[0m in \u001b[0;36m__init__\u001b[1;34m(self, f, fieldnames, restval, extrasaction, dialect, *args, **kwds)\u001b[0m\n\u001b[0;32m    138\u001b[0m                              % extrasaction)\n\u001b[0;32m    139\u001b[0m         \u001b[0mself\u001b[0m\u001b[1;33m.\u001b[0m\u001b[0mextrasaction\u001b[0m \u001b[1;33m=\u001b[0m \u001b[0mextrasaction\u001b[0m\u001b[1;33m\u001b[0m\u001b[0m\n\u001b[1;32m--> 140\u001b[1;33m         \u001b[0mself\u001b[0m\u001b[1;33m.\u001b[0m\u001b[0mwriter\u001b[0m \u001b[1;33m=\u001b[0m \u001b[0mwriter\u001b[0m\u001b[1;33m(\u001b[0m\u001b[0mf\u001b[0m\u001b[1;33m,\u001b[0m \u001b[0mdialect\u001b[0m\u001b[1;33m,\u001b[0m \u001b[1;33m*\u001b[0m\u001b[0margs\u001b[0m\u001b[1;33m,\u001b[0m \u001b[1;33m**\u001b[0m\u001b[0mkwds\u001b[0m\u001b[1;33m)\u001b[0m\u001b[1;33m\u001b[0m\u001b[0m\n\u001b[0m\u001b[0;32m    141\u001b[0m \u001b[1;33m\u001b[0m\u001b[0m\n\u001b[0;32m    142\u001b[0m     \u001b[1;32mdef\u001b[0m \u001b[0mwriteheader\u001b[0m\u001b[1;33m(\u001b[0m\u001b[0mself\u001b[0m\u001b[1;33m)\u001b[0m\u001b[1;33m:\u001b[0m\u001b[1;33m\u001b[0m\u001b[0m\n",
      "\u001b[1;31mTypeError\u001b[0m: 'DictWriter' object is not callable"
     ]
    }
   ],
   "source": [
    "#writing to a csv file using DictWriter\n",
    "with open('Dem_Stats.csv','r') as in_data:\n",
    "    read_data = csv.DictReader(in_data)\n",
    "    \n",
    "    with open('NEW_FILE_DICT.csv','w',newline='') as write_data:\n",
    "          fieldnames=['JURISDICTION NAME', 'COUNT PARTICIPANTS', 'COUNT FEMALE']\n",
    "            \n",
    "          csv_writer=csv.DictWriter(write_data,fieldnames=fieldnames)\n",
    "        \n",
    "          for i in read_data:\n",
    "                del line('COUNT FEMALE') # To drop a column COUNT FEMALe in output\n",
    "               csv_write.writerow(i)\n",
    "            \n",
    "        "
   ]
  },
  {
   "cell_type": "code",
   "execution_count": null,
   "metadata": {},
   "outputs": [],
   "source": []
  }
 ],
 "metadata": {
  "kernelspec": {
   "display_name": "Python 3",
   "language": "python",
   "name": "python3"
  },
  "language_info": {
   "codemirror_mode": {
    "name": "ipython",
    "version": 3
   },
   "file_extension": ".py",
   "mimetype": "text/x-python",
   "name": "python",
   "nbconvert_exporter": "python",
   "pygments_lexer": "ipython3",
   "version": "3.6.5"
  }
 },
 "nbformat": 4,
 "nbformat_minor": 2
}
