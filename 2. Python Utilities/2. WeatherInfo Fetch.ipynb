{
 "cells": [
  {
   "cell_type": "markdown",
   "metadata": {},
   "source": [
    "## Get weatherinfo using yahooWeather API\n"
   ]
  },
  {
   "cell_type": "code",
   "execution_count": 9,
   "metadata": {},
   "outputs": [],
   "source": [
    "#Import the RapidConnect method\n",
    "from rapidconnect import RapidConnect\n",
    "import sys"
   ]
  },
  {
   "cell_type": "code",
   "execution_count": 7,
   "metadata": {},
   "outputs": [
    {
     "name": "stdout",
     "output_type": "stream",
     "text": [
      "Enter the City: Bangalore\n"
     ]
    }
   ],
   "source": [
    "#Enter the required city name.\n",
    "\n",
    "city = input(\"Enter the City: \")\n",
    "\n",
    "\n",
    "#You can now instantiate a new RapidAPI client with your ProjectName and ProjectKey\n",
    "\n",
    "rapid = RapidConnect(\"default-application_59bbda2be4b0b0cacf7c7995\",\n",
    "                     \"db4efe57-20a5-4f2d-966c-b292a14a8695\")\n",
    "\n",
    "#call the API using API name and function name and parameters with in flower braackets.\n",
    "\n",
    "result = rapid.call('YahooWeatherAPI', 'getWeatherForecast', {'location': city})\n",
    "\n",
    "\n",
    "desc = result[\"query\"][\"results\"][\"channel\"][\"item\"][\"condition\"][\"text\"]\n",
    "temp = result[\"query\"][\"results\"][\"channel\"][\"item\"][\"condition\"][\"temp\"]\n",
    "\n",
    "Output = \"It's \" + desc + \" in {}, with a temperature of {} Farenheit.\".format(city.capitalize(), temp)\n"
   ]
  },
  {
   "cell_type": "code",
   "execution_count": 8,
   "metadata": {},
   "outputs": [
    {
     "data": {
      "text/plain": [
       "\"It's Mostly Sunny in Bangalore, with a temperature of 83 Farenheit.\""
      ]
     },
     "execution_count": 8,
     "metadata": {},
     "output_type": "execute_result"
    }
   ],
   "source": [
    "Output"
   ]
  }
 ],
 "metadata": {
  "kernelspec": {
   "display_name": "Python 3",
   "language": "python",
   "name": "python3"
  },
  "language_info": {
   "codemirror_mode": {
    "name": "ipython",
    "version": 3
   },
   "file_extension": ".py",
   "mimetype": "text/x-python",
   "name": "python",
   "nbconvert_exporter": "python",
   "pygments_lexer": "ipython3",
   "version": "3.6.5"
  }
 },
 "nbformat": 4,
 "nbformat_minor": 2
}
