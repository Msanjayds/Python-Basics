{
 "cells": [
  {
   "cell_type": "markdown",
   "metadata": {},
   "source": [
    "# Create Random numbers using Random module\n",
    "\n",
    "## Use diffrent methods in Random module to generate some sample dummy data"
   ]
  },
  {
   "cell_type": "code",
   "execution_count": 14,
   "metadata": {},
   "outputs": [
    {
     "name": "stdout",
     "output_type": "stream",
     "text": [
      "0.25597702238713116\n"
     ]
    }
   ],
   "source": [
    "import random\n",
    "\n",
    "value = random.random()\n",
    "print(value)"
   ]
  },
  {
   "cell_type": "code",
   "execution_count": 19,
   "metadata": {},
   "outputs": [
    {
     "name": "stdout",
     "output_type": "stream",
     "text": [
      "5.149271177513567\n"
     ]
    }
   ],
   "source": [
    "#To get random folating point value between 1 and 10\n",
    "\n",
    "value = random.uniform(1,10)\n",
    "print(value)\n"
   ]
  },
  {
   "cell_type": "code",
   "execution_count": 26,
   "metadata": {},
   "outputs": [
    {
     "name": "stdout",
     "output_type": "stream",
     "text": [
      "3\n"
     ]
    }
   ],
   "source": [
    "#To get random integer between 1 and 5\n",
    "\n",
    "value = random.randint(1,5)\n",
    "print(value)"
   ]
  },
  {
   "cell_type": "code",
   "execution_count": 35,
   "metadata": {},
   "outputs": [
    {
     "name": "stdout",
     "output_type": "stream",
     "text": [
      "Hi likith\n"
     ]
    }
   ],
   "source": [
    "# To pick a random value form a list\n",
    "names = ['sanjay','vijay','likith','sindhu']\n",
    "\n",
    "value = random.choice(names)\n",
    "print('Hi', value)"
   ]
  },
  {
   "cell_type": "code",
   "execution_count": 37,
   "metadata": {},
   "outputs": [
    {
     "name": "stdout",
     "output_type": "stream",
     "text": [
      "['Black', 'Red', 'Black', 'Green', 'Green', 'Green', 'Green', 'Green', 'Black', 'Green']\n"
     ]
    }
   ],
   "source": [
    "# to get multiple random values, option k indicates number of random choices\n",
    "colors = ['Red','Black','Green']\n",
    "results = random.choices(colors,k=10)\n",
    "print(results)\n"
   ]
  },
  {
   "cell_type": "code",
   "execution_count": 44,
   "metadata": {},
   "outputs": [
    {
     "name": "stdout",
     "output_type": "stream",
     "text": [
      "['Red', 'Red', 'Green', 'Black', 'Black', 'Black', 'Black', 'Red', 'Black', 'Black']\n"
     ]
    }
   ],
   "source": [
    "#Assign weights for consideration \n",
    "colors = ['Red','Black','Green']\n",
    "#chances of getting greeen is just 20% and red is 50% adn black is 50%\n",
    "#Green rarely popsup\n",
    "results = random.choices(colors, weights=[50,50,20],k=10)\n",
    "print(results)"
   ]
  },
  {
   "cell_type": "code",
   "execution_count": 47,
   "metadata": {},
   "outputs": [
    {
     "name": "stdout",
     "output_type": "stream",
     "text": [
      "[35, 34, 6, 45, 23, 19, 42, 43, 52, 20, 49, 18, 2, 47, 28, 14, 25, 4, 38, 7, 17, 11, 22, 40, 15, 27, 37, 36, 30, 26, 3, 12, 48, 51, 8, 33, 9, 41, 32, 16, 31, 46, 5, 10, 1, 44, 29, 50, 39, 13, 24, 21]\n"
     ]
    }
   ],
   "source": [
    "#use random module to shuffle the list\n",
    "deck = list(range(1,53)) #53 is non inclusive\n",
    "\n",
    "random.shuffle(deck)\n",
    "print(deck)"
   ]
  },
  {
   "cell_type": "code",
   "execution_count": 54,
   "metadata": {},
   "outputs": [
    {
     "name": "stdout",
     "output_type": "stream",
     "text": [
      "[3, 4, 6, 10, 22]\n"
     ]
    }
   ],
   "source": [
    "#to get 5 random unique values (choices method can pick same card multiple times)\n",
    "deck = list(range(1,53)) #53 is non inclusive\n",
    "\n",
    "hand = random.sample(deck,k=5)\n",
    "print(hand)"
   ]
  },
  {
   "cell_type": "code",
   "execution_count": 93,
   "metadata": {},
   "outputs": [
    {
     "name": "stdout",
     "output_type": "stream",
     "text": [
      "dan sing\n",
      "ph:503-555-9055\n",
      "hyderabad\n",
      "tamilnadu\n",
      "76848\n",
      "\n",
      "ram ali\n",
      "ph:962-555-6899\n",
      "lucknow\n",
      "andhra\n",
      "32241\n",
      "\n",
      "albert umar\n",
      "ph:886-555-8652\n",
      "lucknow\n",
      "karantaka\n",
      "22640\n",
      "\n",
      "dan Sinha\n",
      "ph:209-555-2104\n",
      "jaipur\n",
      "tamilnadu\n",
      "37651\n",
      "\n",
      "dan Sinha\n",
      "ph:598-555-1257\n",
      "hyderabad\n",
      "ossam\n",
      "57364\n",
      "\n",
      "albert sing\n",
      "ph:937-555-7748\n",
      "delhi\n",
      "bihar\n",
      "97012\n",
      "\n",
      "dan umar\n",
      "ph:776-555-1501\n",
      "lucknow\n",
      "karantaka\n",
      "91419\n",
      "\n",
      "dan krian\n",
      "ph:434-555-2530\n",
      "delhi\n",
      "tamilnadu\n",
      "87468\n",
      "\n",
      "sham ali\n",
      "ph:815-555-5064\n",
      "hyderabad\n",
      "ossam\n",
      "34578\n",
      "\n",
      "dan ali\n",
      "ph:718-555-9165\n",
      "lucknow\n",
      "GOA\n",
      "47821\n",
      "\n"
     ]
    }
   ],
   "source": [
    "#to generate some fake random adresses or to generate summy dummy data\n",
    "import random\n",
    "first_names = ['ram','pete','sham','albert','dan']\n",
    "last_names = ['umar','rao','krian','sing','ali','Sinha','xxx']\n",
    "city_list=['bangalore','chennai','delhi','hyderabad','lucknow','jaipur','delhi'] \n",
    "state_list = ['karantaka','tamilnadu','andhra','kerala','ossam','bihar','GOA']\n",
    "\n",
    "\n",
    "for i in range(10):\n",
    "    first = random.choice(first_names)\n",
    "    last = random.choice(last_names)\n",
    "    city = random.choice(city_list)\n",
    "    state = random.choice(state_list)\n",
    "    phone= f'{random.randint(100,999)}-555-{random.randint(1000,9999)}'  \n",
    "    zip = random.randint(10000,99999)\n",
    "    address = f'{city}\\n{state}\\n{zip}';\n",
    "    print(f'{first} {last}\\n''ph:'f'{phone}\\n{address}\\n')\n",
    "\n",
    "\n"
   ]
  }
 ],
 "metadata": {
  "kernelspec": {
   "display_name": "Python 3",
   "language": "python",
   "name": "python3"
  },
  "language_info": {
   "codemirror_mode": {
    "name": "ipython",
    "version": 3
   },
   "file_extension": ".py",
   "mimetype": "text/x-python",
   "name": "python",
   "nbconvert_exporter": "python",
   "pygments_lexer": "ipython3",
   "version": "3.6.5"
  }
 },
 "nbformat": 4,
 "nbformat_minor": 2
}
