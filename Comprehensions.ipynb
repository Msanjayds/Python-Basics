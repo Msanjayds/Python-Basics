{
 "cells": [
  {
   "cell_type": "markdown",
   "metadata": {},
   "source": [
    "# List Comprehensions\n",
    "    Easier and more readable way to create lists"
   ]
  },
  {
   "cell_type": "code",
   "execution_count": 8,
   "metadata": {},
   "outputs": [
    {
     "name": "stdout",
     "output_type": "stream",
     "text": [
      "[1, 2, 3, 4, 5, 6, 7, 8]\n"
     ]
    }
   ],
   "source": [
    "nums = [1,2,3,4,5,6,7,8]\n",
    "\n",
    "new_list = []\n",
    "\n",
    "for i in nums:\n",
    "    new_list.append(i)\n",
    "print(new_list)"
   ]
  },
  {
   "cell_type": "code",
   "execution_count": 9,
   "metadata": {},
   "outputs": [
    {
     "name": "stdout",
     "output_type": "stream",
     "text": [
      "[1, 2, 3, 4, 5, 6, 7, 8]\n"
     ]
    }
   ],
   "source": [
    "#Above step can be rewritten using list comprehension as below\n",
    "\n",
    "new_list = [i for i in nums]\n",
    "print(new_list)"
   ]
  },
  {
   "cell_type": "code",
   "execution_count": 13,
   "metadata": {},
   "outputs": [
    {
     "name": "stdout",
     "output_type": "stream",
     "text": [
      "[1, 4, 9, 16, 25, 36, 64]\n"
     ]
    }
   ],
   "source": [
    "#Create a new list with square of numbers in nums.\n",
    "nums = [1,2,3,4,5,6,8]\n",
    "\n",
    "new_list = []\n",
    "\n",
    "for i in nums:\n",
    "    new_list.append(i*i)\n",
    "print(new_list)"
   ]
  },
  {
   "cell_type": "code",
   "execution_count": 15,
   "metadata": {},
   "outputs": [
    {
     "name": "stdout",
     "output_type": "stream",
     "text": [
      "[1, 4, 9, 16, 25, 36, 64]\n"
     ]
    }
   ],
   "source": [
    "#Above step can be rewritten using list comprehension as below\n",
    "new_list = [ i*i for i in nums]\n",
    "print(new_list)\n"
   ]
  },
  {
   "cell_type": "code",
   "execution_count": 64,
   "metadata": {},
   "outputs": [
    {
     "name": "stdout",
     "output_type": "stream",
     "text": [
      "<generator object <genexpr> at 0x000001FA10DD2678>\n",
      "1\n",
      "4\n",
      "9\n",
      "16\n",
      "25\n",
      "36\n",
      "64\n"
     ]
    }
   ],
   "source": [
    "#in the above example if we use normal bracket instead of square bracket\n",
    "#it will create a generator\n",
    "\n",
    "new_list = (i*i for i in nums)\n",
    "print(new_list)\n",
    "for i in new_list:\n",
    "    print(i)"
   ]
  },
  {
   "cell_type": "code",
   "execution_count": 18,
   "metadata": {},
   "outputs": [
    {
     "name": "stdout",
     "output_type": "stream",
     "text": [
      "[2, 4, 6, 8]\n"
     ]
    }
   ],
   "source": [
    "#Pick only the even numbers from a list\n",
    "new_list = [n for n in nums if n%2==0]\n",
    "print(new_list)\n"
   ]
  },
  {
   "cell_type": "code",
   "execution_count": 34,
   "metadata": {},
   "outputs": [
    {
     "name": "stdout",
     "output_type": "stream",
     "text": [
      "[('a', 0), ('a', 1), ('a', 2), ('a', 3), ('b', 0), ('b', 1), ('b', 2), ('b', 3), ('c', 0), ('c', 1), ('c', 2), ('c', 3), ('d', 0), ('d', 1), ('d', 2), ('d', 3)]\n"
     ]
    }
   ],
   "source": [
    "#create a touple pair (letter,num) for each letter in 'abcd' and each number in '0123'\n",
    "new_list = [(letter,num) for letter in 'abcd' for num in range(4)]\n",
    "print(new_list)"
   ]
  },
  {
   "cell_type": "markdown",
   "metadata": {},
   "source": [
    "# Dictionary Compreshension"
   ]
  },
  {
   "cell_type": "code",
   "execution_count": 50,
   "metadata": {},
   "outputs": [
    {
     "name": "stdout",
     "output_type": "stream",
     "text": [
      "{'A': 1, 'B': 2, 'C': 3, 'D': 4}\n"
     ]
    }
   ],
   "source": [
    "#combine the key and value from the two lists and create a dictioinary\n",
    "names=['A','B','C','D'] # name as key\n",
    "numbers=[1,2,3,4] # number as a value\n",
    "\n",
    "new_dict = {}\n",
    "\n",
    "for i,j in zip(names,numbers):\n",
    "    new_dict[i] = j\n",
    "print(new_dict)\n",
    "    "
   ]
  },
  {
   "cell_type": "code",
   "execution_count": 52,
   "metadata": {},
   "outputs": [
    {
     "name": "stdout",
     "output_type": "stream",
     "text": [
      "{'A': 1, 'B': 2, 'C': 3, 'D': 4}\n"
     ]
    }
   ],
   "source": [
    "#Above can be achieved using a dictionary comprehension\n",
    "\n",
    "new_dict={i: j for i, j in zip (names,numbers)}\n",
    "print(new_dict)\n"
   ]
  },
  {
   "cell_type": "code",
   "execution_count": 54,
   "metadata": {},
   "outputs": [
    {
     "name": "stdout",
     "output_type": "stream",
     "text": [
      "{'A': 1, 'C': 3, 'D': 4}\n"
     ]
    }
   ],
   "source": [
    "#we can include a condition if required\n",
    "\n",
    "new_dict={i: j for i, j in zip (names,numbers) if i != 'B'}\n",
    "print(new_dict)\n"
   ]
  },
  {
   "cell_type": "markdown",
   "metadata": {},
   "source": [
    "# Set Comprehension"
   ]
  },
  {
   "cell_type": "code",
   "execution_count": 56,
   "metadata": {},
   "outputs": [
    {
     "name": "stdout",
     "output_type": "stream",
     "text": [
      "{1, 2, 3, 4, 5, 6, 7, 8, 9}\n"
     ]
    }
   ],
   "source": [
    "raw_list = [1,1,1,1,2,3,3,4,4,4,5,5,5,6,7,8,6,7,9,9,9]\n",
    "new_set = set()\n",
    "for i in raw_list:\n",
    "    new_set.add(i)\n",
    "print(new_set)\n"
   ]
  },
  {
   "cell_type": "code",
   "execution_count": 59,
   "metadata": {},
   "outputs": [
    {
     "name": "stdout",
     "output_type": "stream",
     "text": [
      "{1, 2, 3, 4, 5, 6, 7, 8, 9}\n"
     ]
    }
   ],
   "source": [
    "#The above can be acchieved using a set comprehension, use flower brackets\n",
    "\n",
    "new_set = {i for i in raw_list}\n",
    "print(new_set)\n"
   ]
  }
 ],
 "metadata": {
  "kernelspec": {
   "display_name": "Python 3",
   "language": "python",
   "name": "python3"
  },
  "language_info": {
   "codemirror_mode": {
    "name": "ipython",
    "version": 3
   },
   "file_extension": ".py",
   "mimetype": "text/x-python",
   "name": "python",
   "nbconvert_exporter": "python",
   "pygments_lexer": "ipython3",
   "version": "3.6.5"
  }
 },
 "nbformat": 4,
 "nbformat_minor": 2
}
