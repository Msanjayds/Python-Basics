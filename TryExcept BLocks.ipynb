{
 "cells": [
  {
   "cell_type": "markdown",
   "metadata": {},
   "source": [
    "# Try Except Blocks for Error Handling\n",
    "\n",
    "## If we anticipate any error in our code, we can handle in a better way using the TryExcept block\n",
    "\n",
    "    try:\n",
    "        pass\n",
    "    except Exception:\n",
    "        pass\n",
    "    else:\n",
    "        pass\n",
    "    finally:\n",
    "        pass"
   ]
  },
  {
   "cell_type": "code",
   "execution_count": 2,
   "metadata": {},
   "outputs": [
    {
     "name": "stdout",
     "output_type": "stream",
     "text": [
      "sorry, file does not exist\n"
     ]
    }
   ],
   "source": [
    "try:\n",
    "    f=open('Non_Existing_file.txt')\n",
    "except Exception:\n",
    "    print('sorry, file does not exist')\n"
   ]
  },
  {
   "cell_type": "code",
   "execution_count": 5,
   "metadata": {},
   "outputs": [
    {
     "name": "stdout",
     "output_type": "stream",
     "text": [
      "unknown error\n"
     ]
    }
   ],
   "source": [
    "#Specific exception and General exception, keep the general exception at bottom\n",
    "\n",
    "try:\n",
    "    new_var = missing_var\n",
    "    f=open('Non_Existing_file.txt')\n",
    "except FileNotFoundError: \n",
    "    print('Sorry file does not exist')\n",
    "except Exception:\n",
    "    print('unknown error')\n",
    "\n",
    "    "
   ]
  },
  {
   "cell_type": "code",
   "execution_count": 7,
   "metadata": {},
   "outputs": [
    {
     "name": "stdout",
     "output_type": "stream",
     "text": [
      "[Errno 2] No such file or directory: 'Non_Existing_file.txt'\n"
     ]
    }
   ],
   "source": [
    "# To Print the exception that it throws instead of custom message\n",
    "\n",
    "try:\n",
    "    f=open('Non_Existing_file.txt')\n",
    "except FileNotFoundError as e:\n",
    "    print(e)\n",
    "except Exception as e:\n",
    "    print(e)\n",
    "    "
   ]
  },
  {
   "cell_type": "code",
   "execution_count": 11,
   "metadata": {},
   "outputs": [
    {
     "name": "stdout",
     "output_type": "stream",
     "text": [
      "no exception\n"
     ]
    }
   ],
   "source": [
    "#Else run the code under it if it Try doesnt raise an exception.\n",
    "try:\n",
    "    var='k'\n",
    "except exception as e:\n",
    "    print(e)\n",
    "else:\n",
    "    print('no exception')\n"
   ]
  },
  {
   "cell_type": "code",
   "execution_count": 12,
   "metadata": {},
   "outputs": [
    {
     "name": "stdout",
     "output_type": "stream",
     "text": [
      "[Errno 2] No such file or directory: 'non_existing_file.txt'\n",
      "execution over\n"
     ]
    }
   ],
   "source": [
    "#Finally cluase run the codes irrespective of exception or not under Try cluase\n",
    "try:\n",
    "    f=open('non_existing_file.txt')\n",
    "except FileNotFoundError as e:\n",
    "    print(e)\n",
    "else:\n",
    "    print('no exception')\n",
    "finally:\n",
    "    print('execution over')\n"
   ]
  },
  {
   "cell_type": "code",
   "execution_count": 14,
   "metadata": {},
   "outputs": [
    {
     "name": "stdout",
     "output_type": "stream",
     "text": [
      "Error\n",
      "execution complete\n"
     ]
    }
   ],
   "source": [
    "#To raise your own exception manually\n",
    "try:\n",
    "    k='abcd'\n",
    "    if k == 'abcd':\n",
    "        raise Exception\n",
    "except FileNotFoundError as e:\n",
    "    print(e)\n",
    "except Exception as e:\n",
    "    print('Error')\n",
    "else:\n",
    "    print('no exception')\n",
    "finally:\n",
    "    print('execution complete')\n",
    "    \n",
    "    \n",
    "    \n",
    "    \n",
    "    \n",
    "    \n"
   ]
  }
 ],
 "metadata": {
  "kernelspec": {
   "display_name": "Python 3",
   "language": "python",
   "name": "python3"
  },
  "language_info": {
   "codemirror_mode": {
    "name": "ipython",
    "version": 3
   },
   "file_extension": ".py",
   "mimetype": "text/x-python",
   "name": "python",
   "nbconvert_exporter": "python",
   "pygments_lexer": "ipython3",
   "version": "3.6.5"
  }
 },
 "nbformat": 4,
 "nbformat_minor": 2
}
